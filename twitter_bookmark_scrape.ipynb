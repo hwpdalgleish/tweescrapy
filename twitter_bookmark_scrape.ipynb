{
 "cells": [
  {
   "cell_type": "code",
   "execution_count": 3,
   "id": "e9e915f7",
   "metadata": {},
   "outputs": [],
   "source": [
    "%run -i \"tweescrapy.py\""
   ]
  },
  {
   "cell_type": "code",
   "execution_count": null,
   "id": "4feb8f76",
   "metadata": {},
   "outputs": [],
   "source": [
    "# Henry Dalgleish (2022)\n",
    "\n",
    "# Workflow:\n",
    "# - Run cell immediately above this to import backend code\n",
    "# - Enter your info/adjust parameters (if necessary) in Cell 3\n",
    "# - Run cell 3\n",
    "# - Run cell 4 - this will open a chrome browser with twitter login page\n",
    "# - Enter twitter username, password, deal with cookies, navigate to bookmarks\n",
    "# - Run cell 5 to scrape all bookmark tweets/threads\n",
    "# - Final output is df_tweets dataframe, can be used for further manipulation"
   ]
  },
  {
   "cell_type": "code",
   "execution_count": 4,
   "id": "e65429f4",
   "metadata": {},
   "outputs": [],
   "source": [
    "# Cell 3\n",
    "\n",
    "# Path to chromedriver executable. If left empty will try to \n",
    "# use system's chromedriver exe (if available)\n",
    "driver_path = '' # set string with 'full/path/to/chromedriver'\n",
    "\n",
    "# Your name\n",
    "importer_id = 'Your Name'\n",
    "\n",
    "# Your twitter handle\n",
    "importer_handle = '@yourhandle'\n",
    "\n",
    "# any tags that identify you're major interests\n",
    "importer_tags = ['barrel cortex','calcium imaging','two-photon']\n",
    "\n",
    "# whether to close twitter after scrape\n",
    "close_after = False\n",
    "\n",
    "# parameters, these are the defaults\n",
    "# change if necessary and add as keyword arguments\n",
    "scroll_amount = 500\n",
    "scroll_wait_time = 0.25\n",
    "page_wait_time = 2"
   ]
  },
  {
   "cell_type": "code",
   "execution_count": 5,
   "id": "f6cc53c6",
   "metadata": {},
   "outputs": [],
   "source": [
    "# Cell 4\n",
    "\n",
    "# Load webpage\n",
    "# N.B. you'll have to enter your twitter username, password and navigate to the \n",
    "# bookmarks tab manually before you can run subsequent cell\n",
    "\n",
    "url = 'https://twitter.com/i/bookmarks'\n",
    "\n",
    "ops = get_driver_options()\n",
    "driver = init_driver(url,ops,driver_path=driver_path)\n"
   ]
  },
  {
   "cell_type": "code",
   "execution_count": null,
   "id": "8df70166",
   "metadata": {},
   "outputs": [],
   "source": [
    "# Cell 5\n",
    "\n",
    "# run the scrape\n",
    "df_tweets = scrape_all_bookmarks(importer_id=importer_id,\n",
    "                                 importer_handle=importer_handle,\n",
    "                                 importer_tags=importer_tags,\n",
    "                                 scroll_amount=scroll_amount,\n",
    "                                 scroll_wait_time=scroll_wait_time,\n",
    "                                 page_wait_time=page_wait_time)\n",
    "\n",
    "if close_after:\n",
    "    driver.quit()\n",
    "\n",
    "# print the tweets\n",
    "df_tweets\n"
   ]
  }
 ],
 "metadata": {
  "kernelspec": {
   "display_name": "Python 3 (ipykernel)",
   "language": "python",
   "name": "python3"
  },
  "language_info": {
   "codemirror_mode": {
    "name": "ipython",
    "version": 3
   },
   "file_extension": ".py",
   "mimetype": "text/x-python",
   "name": "python",
   "nbconvert_exporter": "python",
   "pygments_lexer": "ipython3",
   "version": "3.7.13"
  }
 },
 "nbformat": 4,
 "nbformat_minor": 5
}
